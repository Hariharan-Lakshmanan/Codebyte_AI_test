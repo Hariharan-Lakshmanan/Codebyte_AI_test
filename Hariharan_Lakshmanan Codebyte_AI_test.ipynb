{
 "cells": [
  {
   "cell_type": "markdown",
   "id": "3dc6b4dd",
   "metadata": {},
   "source": [
    "Section A: Python & Data Manipulation"
   ]
  },
  {
   "cell_type": "markdown",
   "id": "d76d7cc5",
   "metadata": {},
   "source": [
    "Q1. Data Cleanup & Summary "
   ]
  },
  {
   "cell_type": "code",
   "execution_count": null,
   "id": "0c641c88",
   "metadata": {},
   "outputs": [],
   "source": [
    "def student_scores(df):\n",
    "     # Fill missing numeric values with column mean\n",
    "    numeric_columns = ['Math', 'Science', 'English']\n",
    "    for column in numeric_columns:\n",
    "        df[column].fillna(df[column].mean(), inplace=True)\n",
    "\n",
    "    # Convert Gender to binary: Male = 1, Female = 0\n",
    "    df['Gender'] = df['Gender'].replace({'Male': 1, 'Female': 0})\n",
    "\n",
    "    # Return average scores by grouping gender\n",
    "    summary = df.groupby('Gender')[numeric_columns].mean().reset_index()\n",
    "    return summary\n"
   ]
  },
  {
   "cell_type": "markdown",
   "id": "5076d219",
   "metadata": {},
   "source": [
    "Q2. Dictionary-Based Stats"
   ]
  },
  {
   "cell_type": "code",
   "execution_count": 3,
   "id": "e79d485f",
   "metadata": {},
   "outputs": [],
   "source": [
    "def scores_stats(user_scores):\n",
    "    result = {}\n",
    "    # Calculating average, minimum, and maximum scores for each user\n",
    "    for user, scores in user_scores.items():\n",
    "        average_score = sum(scores) / len(scores)\n",
    "        minimun_score = min(scores)\n",
    "        maximum_score = max(scores)\n",
    "\n",
    "        result[user] = {\n",
    "            'average': average_score,\n",
    "            'min': minimun_score,\n",
    "            'max': maximum_score\n",
    "        }\n",
    "\n",
    "    return result\n",
    "    "
   ]
  },
  {
   "cell_type": "markdown",
   "id": "17d7c78a",
   "metadata": {},
   "source": [
    "Section B: Machine Learning "
   ]
  },
  {
   "cell_type": "markdown",
   "id": "fe674996",
   "metadata": {},
   "source": [
    "Q3. Classifier on Iris "
   ]
  },
  {
   "cell_type": "code",
   "execution_count": 4,
   "id": "5be8d4dd",
   "metadata": {},
   "outputs": [],
   "source": [
    "#Necessary imports\n",
    "import pandas as pd\n",
    "import numpy as np\n",
    "import matplotlib.pyplot as plt\n",
    "import seaborn as sns"
   ]
  },
  {
   "cell_type": "code",
   "execution_count": 12,
   "id": "9c421e84",
   "metadata": {},
   "outputs": [
    {
     "data": {
      "text/html": [
       "<div>\n",
       "<style scoped>\n",
       "    .dataframe tbody tr th:only-of-type {\n",
       "        vertical-align: middle;\n",
       "    }\n",
       "\n",
       "    .dataframe tbody tr th {\n",
       "        vertical-align: top;\n",
       "    }\n",
       "\n",
       "    .dataframe thead th {\n",
       "        text-align: right;\n",
       "    }\n",
       "</style>\n",
       "<table border=\"1\" class=\"dataframe\">\n",
       "  <thead>\n",
       "    <tr style=\"text-align: right;\">\n",
       "      <th></th>\n",
       "      <th>sepal length (cm)</th>\n",
       "      <th>sepal width (cm)</th>\n",
       "      <th>petal length (cm)</th>\n",
       "      <th>petal width (cm)</th>\n",
       "      <th>target</th>\n",
       "    </tr>\n",
       "  </thead>\n",
       "  <tbody>\n",
       "    <tr>\n",
       "      <th>0</th>\n",
       "      <td>5.1</td>\n",
       "      <td>3.5</td>\n",
       "      <td>1.4</td>\n",
       "      <td>0.2</td>\n",
       "      <td>0</td>\n",
       "    </tr>\n",
       "    <tr>\n",
       "      <th>1</th>\n",
       "      <td>4.9</td>\n",
       "      <td>3.0</td>\n",
       "      <td>1.4</td>\n",
       "      <td>0.2</td>\n",
       "      <td>0</td>\n",
       "    </tr>\n",
       "    <tr>\n",
       "      <th>2</th>\n",
       "      <td>4.7</td>\n",
       "      <td>3.2</td>\n",
       "      <td>1.3</td>\n",
       "      <td>0.2</td>\n",
       "      <td>0</td>\n",
       "    </tr>\n",
       "    <tr>\n",
       "      <th>3</th>\n",
       "      <td>4.6</td>\n",
       "      <td>3.1</td>\n",
       "      <td>1.5</td>\n",
       "      <td>0.2</td>\n",
       "      <td>0</td>\n",
       "    </tr>\n",
       "    <tr>\n",
       "      <th>4</th>\n",
       "      <td>5.0</td>\n",
       "      <td>3.6</td>\n",
       "      <td>1.4</td>\n",
       "      <td>0.2</td>\n",
       "      <td>0</td>\n",
       "    </tr>\n",
       "  </tbody>\n",
       "</table>\n",
       "</div>"
      ],
      "text/plain": [
       "   sepal length (cm)  sepal width (cm)  petal length (cm)  petal width (cm)  \\\n",
       "0                5.1               3.5                1.4               0.2   \n",
       "1                4.9               3.0                1.4               0.2   \n",
       "2                4.7               3.2                1.3               0.2   \n",
       "3                4.6               3.1                1.5               0.2   \n",
       "4                5.0               3.6                1.4               0.2   \n",
       "\n",
       "   target  \n",
       "0       0  \n",
       "1       0  \n",
       "2       0  \n",
       "3       0  \n",
       "4       0  "
      ]
     },
     "execution_count": 12,
     "metadata": {},
     "output_type": "execute_result"
    }
   ],
   "source": [
    "#Loading the dataset\n",
    "from sklearn.datasets import load_iris\n",
    "iris = load_iris()\n",
    "# Creating a DataFrame from the iris dataset\n",
    "df = pd.DataFrame(data=iris.data, columns=iris.feature_names)\n",
    "df['target'] = iris.target\n",
    "# Displaying the first few rows of the DataFrame\n",
    "df.head()"
   ]
  },
  {
   "cell_type": "code",
   "execution_count": 20,
   "id": "531b15f9",
   "metadata": {},
   "outputs": [
    {
     "name": "stdout",
     "output_type": "stream",
     "text": [
      "Accuracy: 1.0\n",
      "Confusion Matrix:\n",
      "[[10  0  0]\n",
      " [ 0  9  0]\n",
      " [ 0  0 11]]\n"
     ]
    }
   ],
   "source": [
    "# Creating a DecisionTreeClassifier model\n",
    "from sklearn.tree import DecisionTreeClassifier\n",
    "dt_clf = DecisionTreeClassifier(random_state=42)\n",
    "\n",
    "# Splitting the dataset into features and target variable\n",
    "X = df.drop('target', axis=1)\n",
    "y = df['target']\n",
    "\n",
    "# Splitting the dataset into training and testing sets\n",
    "from sklearn.model_selection import train_test_split\n",
    "X_train, X_test, y_train, y_test = train_test_split(X, y, test_size=0.2, random_state=42)\n",
    "\n",
    "# Fitting the model to the training data\n",
    "dt_clf.fit(X_train, y_train)\n",
    "\n",
    "# Making predictions on the test set\n",
    "y_pred = dt_clf.predict(X_test)\n",
    "\n",
    "# Evaluating the model's performance\n",
    "from sklearn.metrics import accuracy_score, confusion_matrix\n",
    "accuracy = accuracy_score(y_test, y_pred)\n",
    "cm = confusion_matrix(y_test, y_pred)\n",
    "print(f\"Accuracy: {accuracy}\")\n",
    "print(\"Confusion Matrix:\")\n",
    "print(cm)\n"
   ]
  },
  {
   "cell_type": "code",
   "execution_count": 19,
   "id": "7def6605",
   "metadata": {},
   "outputs": [
    {
     "data": {
      "image/png": "[encoded data removed]",
      "text/plain": [
       "<Figure size 800x600 with 2 Axes>"
      ]
     },
     "metadata": {},
     "output_type": "display_data"
    }
   ],
   "source": [
    "# Plotting the confusion matrix\n",
    "plt.figure(figsize=(8, 6))\n",
    "sns.heatmap(cm, annot=True, cmap='Blues', xticklabels=iris.target_names, yticklabels=iris.target_names)\n",
    "plt.title('Confusion Matrix')\n",
    "plt.xlabel('Predicted')\n",
    "plt.ylabel('Actual')\n",
    "plt.show()"
   ]
  },
  {
   "cell_type": "markdown",
   "id": "872ceceb",
   "metadata": {},
   "source": [
    "Q4. Simple Regression"
   ]
  },
  {
   "cell_type": "code",
   "execution_count": 21,
   "id": "67ec64db",
   "metadata": {},
   "outputs": [
    {
     "data": {
      "text/html": [
       "<div>\n",
       "<style scoped>\n",
       "    .dataframe tbody tr th:only-of-type {\n",
       "        vertical-align: middle;\n",
       "    }\n",
       "\n",
       "    .dataframe tbody tr th {\n",
       "        vertical-align: top;\n",
       "    }\n",
       "\n",
       "    .dataframe thead th {\n",
       "        text-align: right;\n",
       "    }\n",
       "</style>\n",
       "<table border=\"1\" class=\"dataframe\">\n",
       "  <thead>\n",
       "    <tr style=\"text-align: right;\">\n",
       "      <th></th>\n",
       "      <th>Area</th>\n",
       "      <th>Bedrooms</th>\n",
       "      <th>Price</th>\n",
       "    </tr>\n",
       "  </thead>\n",
       "  <tbody>\n",
       "    <tr>\n",
       "      <th>0</th>\n",
       "      <td>1360</td>\n",
       "      <td>2</td>\n",
       "      <td>291360</td>\n",
       "    </tr>\n",
       "    <tr>\n",
       "      <th>1</th>\n",
       "      <td>4272</td>\n",
       "      <td>2</td>\n",
       "      <td>872743</td>\n",
       "    </tr>\n",
       "    <tr>\n",
       "      <th>2</th>\n",
       "      <td>3592</td>\n",
       "      <td>4</td>\n",
       "      <td>734159</td>\n",
       "    </tr>\n",
       "    <tr>\n",
       "      <th>3</th>\n",
       "      <td>966</td>\n",
       "      <td>5</td>\n",
       "      <td>210585</td>\n",
       "    </tr>\n",
       "    <tr>\n",
       "      <th>4</th>\n",
       "      <td>4926</td>\n",
       "      <td>3</td>\n",
       "      <td>1001311</td>\n",
       "    </tr>\n",
       "  </tbody>\n",
       "</table>\n",
       "</div>"
      ],
      "text/plain": [
       "   Area  Bedrooms    Price\n",
       "0  1360         2   291360\n",
       "1  4272         2   872743\n",
       "2  3592         4   734159\n",
       "3   966         5   210585\n",
       "4  4926         3  1001311"
      ]
     },
     "execution_count": 21,
     "metadata": {},
     "output_type": "execute_result"
    }
   ],
   "source": [
    "# Since the datatset is not available, we will create a sample synthetic DataFrame for the purpose of modelling\n",
    "\n",
    "np.random.seed(42)\n",
    "\n",
    "n = 100\n",
    "\n",
    "area = np.random.randint(500, 5000, n)\n",
    "bedrooms = np.random.randint(1, 6, n)\n",
    "price = (area * 200) + (bedrooms * 5000) + np.random.randint(-10000, 10000, n)\n",
    "\n",
    "df = pd.DataFrame({\n",
    "    'Area': area,\n",
    "    'Bedrooms': bedrooms,\n",
    "    'Price': price\n",
    "})\n",
    "\n",
    "df.head()"
   ]
  },
  {
   "cell_type": "code",
   "execution_count": 24,
   "id": "0ed7f33f",
   "metadata": {},
   "outputs": [
    {
     "name": "stdout",
     "output_type": "stream",
     "text": [
      "Mean Absolute Error: 4018.4177815756293\n",
      "R^2 Score: 0.9996057377441592\n"
     ]
    }
   ],
   "source": [
    "# Creating a Linear Regression model\n",
    "from sklearn.linear_model import LinearRegression\n",
    "\n",
    "# Splitting the dataset into features and target variable\n",
    "X = df[['Area', 'Bedrooms']]\n",
    "y = df['Price']\n",
    "\n",
    "# Splitting the dataset into training and testing sets\n",
    "X_train, X_test, y_train, y_test = train_test_split(X, y, test_size=0.2, random_state=42)\n",
    "\n",
    "# Fitting the model to the training data\n",
    "lr_model = LinearRegression()\n",
    "lr_model.fit(X_train, y_train)\n",
    "\n",
    "# Making predictions on the test set\n",
    "y_pred = lr_model.predict(X_test)\n",
    "\n",
    "# Evaluating the model's performance\n",
    "from sklearn.metrics import mean_absolute_error, r2_score\n",
    "r2 = r2_score(y_test, y_pred)\n",
    "mae = mean_absolute_error(y_test, y_pred)\n",
    "print(f\"Mean Absolute Error: {mae}\")\n",
    "print(f\"R^2 Score: {r2}\")"
   ]
  },
  {
   "cell_type": "code",
   "execution_count": 28,
   "id": "ae618a66",
   "metadata": {},
   "outputs": [
    {
     "data": {
      "image/png": "[encoded data removed]",
      "text/plain": [
       "<Figure size 1000x600 with 1 Axes>"
      ]
     },
     "metadata": {},
     "output_type": "display_data"
    }
   ],
   "source": [
    "# Plotting the actual vs predicted prices\n",
    "plt.figure(figsize=(10, 6))\n",
    "plt.scatter(y_test, y_pred)\n",
    "plt.xlabel('Actual Price')\n",
    "plt.ylabel('Predicted Price')\n",
    "plt.title('Actual vs Predicted Prices')\n",
    "plt.grid(True)\n",
    "plt.show()"
   ]
  },
  {
   "cell_type": "markdown",
   "id": "6178af5f",
   "metadata": {},
   "source": [
    "Section C: AI/ML Application & Thinking "
   ]
  },
  {
   "cell_type": "markdown",
   "id": "a800eac9",
   "metadata": {},
   "source": [
    "Q5. Conceptual"
   ]
  },
  {
   "cell_type": "markdown",
   "id": "f0a5352f",
   "metadata": {},
   "source": [
    "Overfitting in machine learning - Overfitting is when a model learns the training data too well including its noise resulting in poor performance on new, unseen data."
   ]
  },
  {
   "cell_type": "markdown",
   "id": "c868292e",
   "metadata": {},
   "source": [
    "Decision Tree over Logistic Regression - Decision Tree is used when we need a model that handles non-linear relationships, is easy to interpret, and works with both numerical and categorical data."
   ]
  },
  {
   "cell_type": "markdown",
   "id": "a029bc69",
   "metadata": {},
   "source": [
    "Need of Train Test Split - Train-test split separates data so the model can be trained on one part and tested on unseen data. Without this, we might build a model that only works well on the training data (overfitting)."
   ]
  },
  {
   "cell_type": "markdown",
   "id": "df8d1fbc",
   "metadata": {},
   "source": [
    "Normalization - Normalization helps put all your data on the same scale, so no feature unfairly dominates just because of its size.Especially when the algorithm depends on distances or gradual improvements."
   ]
  },
  {
   "cell_type": "markdown",
   "id": "bab3c77c",
   "metadata": {},
   "source": [
    "Classification Vs Regression - Classification predicts categories or labels (like spam or not spam), while regression predicts continuous numeric values (like house prices)."
   ]
  },
  {
   "cell_type": "markdown",
   "id": "9a341247",
   "metadata": {},
   "source": [
    "Q6. Simple NLP Task – Sentiment Classification"
   ]
  },
  {
   "cell_type": "code",
   "execution_count": 29,
   "id": "f7fdbba6",
   "metadata": {},
   "outputs": [
    {
     "name": "stdout",
     "output_type": "stream",
     "text": [
      "Accuracy: 0.911651728553137\n"
     ]
    }
   ],
   "source": [
    "# Load the dataset\n",
    "from sklearn.datasets import fetch_20newsgroups\n",
    "\n",
    "# Load data for only two categories\n",
    "categories = ['rec.autos', 'comp.sys.mac.hardware']\n",
    "\n",
    "train_data = fetch_20newsgroups(subset='train', categories=categories, remove=('headers', 'footers', 'quotes'))\n",
    "test_data = fetch_20newsgroups(subset='test', categories=categories, remove=('headers', 'footers', 'quotes'))\n",
    "\n",
    "# Convert the text data into a TF-IDF feature vector\n",
    "from sklearn.feature_extraction.text import TfidfVectorizer\n",
    "vectorizer = TfidfVectorizer()\n",
    "X_train = vectorizer.fit_transform(train_data.data)\n",
    "X_test = vectorizer.transform(test_data.data)\n",
    "\n",
    "# Train the Logistic Regression classifier\n",
    "from sklearn.linear_model import LogisticRegression\n",
    "classifier = LogisticRegression(max_iter=1000)\n",
    "classifier.fit(X_train, train_data.target)\n",
    "\n",
    "# Make predictions on the test set\n",
    "y_pred = classifier.predict(X_test)\n",
    "\n",
    "# Evaluate the model's performance\n",
    "from sklearn.metrics import accuracy_score\n",
    "accuracy = accuracy_score(test_data.target, y_pred)\n",
    "print(f\"Accuracy: {accuracy}\")"
   ]
  },
  {
   "cell_type": "code",
   "execution_count": null,
   "id": "1bdc860f",
   "metadata": {},
   "outputs": [],
   "source": []
  }
 ],
 "metadata": {
  "kernelspec": {
   "display_name": "base",
   "language": "python",
   "name": "python3"
  },
  "language_info": {
   "codemirror_mode": {
    "name": "ipython",
    "version": 3
   },
   "file_extension": ".py",
   "mimetype": "text/x-python",
   "name": "python",
   "nbconvert_exporter": "python",
   "pygments_lexer": "ipython3",
   "version": "3.11.7"
  }
 },
 "nbformat": 4,
 "nbformat_minor": 5
}
